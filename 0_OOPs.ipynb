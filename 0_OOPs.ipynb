{
 "cells": [
  {
   "cell_type": "code",
   "execution_count": 2,
   "metadata": {},
   "outputs": [],
   "source": [
    "# Defining Class\n",
    "\n",
    "class Student:\n",
    "    pass\n",
    "    "
   ]
  },
  {
   "cell_type": "code",
   "execution_count": 4,
   "metadata": {},
   "outputs": [],
   "source": [
    "#Object of a class\n",
    "\n",
    "s1 = Student()\n",
    "s2 = Student()\n",
    "s3 = Student()"
   ]
  },
  {
   "cell_type": "code",
   "execution_count": 5,
   "metadata": {},
   "outputs": [],
   "source": [
    "# Adding the attributes to object\n",
    "\n",
    "s1.name = \"Deepak\"\n",
    "s1.age = 26"
   ]
  },
  {
   "cell_type": "code",
   "execution_count": 6,
   "metadata": {},
   "outputs": [],
   "source": [
    "s2.rollNumber = 101"
   ]
  },
  {
   "cell_type": "code",
   "execution_count": 7,
   "metadata": {},
   "outputs": [],
   "source": [
    "s3.age = 21"
   ]
  },
  {
   "cell_type": "code",
   "execution_count": 8,
   "metadata": {},
   "outputs": [
    {
     "name": "stdout",
     "output_type": "stream",
     "text": [
      "{'name': 'Deepak', 'age': 26}\n",
      "{'rollNumber': 101}\n",
      "{'age': 21}\n"
     ]
    }
   ],
   "source": [
    "#list of attributes in object\n",
    "\n",
    "print(s1.__dict__)\n",
    "print(s2.__dict__)\n",
    "print(s3.__dict__)"
   ]
  },
  {
   "cell_type": "code",
   "execution_count": 9,
   "metadata": {},
   "outputs": [
    {
     "name": "stdout",
     "output_type": "stream",
     "text": [
      "{}\n"
     ]
    }
   ],
   "source": [
    "s4 = Student()\n",
    "print(s4.__dict__)"
   ]
  },
  {
   "cell_type": "code",
   "execution_count": 10,
   "metadata": {},
   "outputs": [
    {
     "name": "stdout",
     "output_type": "stream",
     "text": [
      "Deepak\n"
     ]
    }
   ],
   "source": [
    "#accessing attributes\n",
    "print(s1.name)"
   ]
  },
  {
   "cell_type": "code",
   "execution_count": 12,
   "metadata": {
    "scrolled": true
   },
   "outputs": [
    {
     "name": "stdout",
     "output_type": "stream",
     "text": [
      "True\n",
      "False\n"
     ]
    }
   ],
   "source": [
    "#in-built function\n",
    "# to know if the given attribute is present or not in the object\n",
    "\n",
    "print(hasattr(s1, 'name'))\n",
    "print(hasattr(s2, 'name'))"
   ]
  },
  {
   "cell_type": "code",
   "execution_count": 15,
   "metadata": {
    "scrolled": true
   },
   "outputs": [
    {
     "name": "stdout",
     "output_type": "stream",
     "text": [
      "Deepak\n",
      "None\n"
     ]
    }
   ],
   "source": [
    "print(getattr(s1, 'name'))\n",
    "print(getattr(s2, 'name', 'None'))"
   ]
  },
  {
   "cell_type": "code",
   "execution_count": 16,
   "metadata": {
    "scrolled": true
   },
   "outputs": [
    {
     "name": "stdout",
     "output_type": "stream",
     "text": [
      "{'age': 26}\n"
     ]
    }
   ],
   "source": [
    "delattr(s1, 'name')\n",
    "print(s1.__dict__)"
   ]
  },
  {
   "cell_type": "code",
   "execution_count": 17,
   "metadata": {
    "scrolled": true
   },
   "outputs": [
    {
     "name": "stdout",
     "output_type": "stream",
     "text": [
      "{'age': 26, 'name': 'Deepak'}\n"
     ]
    }
   ],
   "source": [
    "setattr(s1, 'name', 'Deepak')\n",
    "print(s1.__dict__)"
   ]
  },
  {
   "cell_type": "code",
   "execution_count": 41,
   "metadata": {},
   "outputs": [
    {
     "name": "stdout",
     "output_type": "stream",
     "text": [
      "{'__module__': '__main__', 'totalStudents': 20, 'classTeacherName': 'Deep', 'printHello': <function Student.printHello at 0x7f893d42b160>, 'print': <function Student.print at 0x7f893d42b0d0>, 'printName': <function Student.printName at 0x7f893d42b280>, 'addName': <function Student.addName at 0x7f893d42b1f0>, '__dict__': <attribute '__dict__' of 'Student' objects>, '__weakref__': <attribute '__weakref__' of 'Student' objects>, '__doc__': None}\n"
     ]
    }
   ],
   "source": [
    "#Class attributes\n",
    "\n",
    "Student.totalStudents = 20\n",
    "print(Student.__dict__)"
   ]
  },
  {
   "cell_type": "code",
   "execution_count": 20,
   "metadata": {},
   "outputs": [],
   "source": [
    "class Students:\n",
    "    ## Class Attributes\n",
    "    totalStudents = 20\n",
    "    classTeacherName = 'Tomoko'\n",
    "    \n",
    "s1 = Student()\n",
    "s2 = Student()"
   ]
  },
  {
   "cell_type": "code",
   "execution_count": 21,
   "metadata": {},
   "outputs": [
    {
     "name": "stdout",
     "output_type": "stream",
     "text": [
      "{'__module__': '__main__', '__dict__': <attribute '__dict__' of 'Student' objects>, '__weakref__': <attribute '__weakref__' of 'Student' objects>, '__doc__': None, 'totalStudents': 20}\n"
     ]
    }
   ],
   "source": [
    "print(Student.__dict__)"
   ]
  },
  {
   "cell_type": "code",
   "execution_count": 22,
   "metadata": {},
   "outputs": [
    {
     "name": "stdout",
     "output_type": "stream",
     "text": [
      "{}\n",
      "{}\n"
     ]
    }
   ],
   "source": [
    "print(s1.__dict__)\n",
    "print(s2.__dict__)"
   ]
  },
  {
   "cell_type": "code",
   "execution_count": 23,
   "metadata": {},
   "outputs": [
    {
     "name": "stdout",
     "output_type": "stream",
     "text": [
      "20\n"
     ]
    }
   ],
   "source": [
    "print(Student.totalStudents)"
   ]
  },
  {
   "cell_type": "code",
   "execution_count": 24,
   "metadata": {},
   "outputs": [
    {
     "name": "stdout",
     "output_type": "stream",
     "text": [
      "20\n",
      "20\n"
     ]
    }
   ],
   "source": [
    "print(s1.totalStudents)\n",
    "print(s2.totalStudents)"
   ]
  },
  {
   "cell_type": "code",
   "execution_count": 25,
   "metadata": {},
   "outputs": [
    {
     "name": "stdout",
     "output_type": "stream",
     "text": [
      "{}\n",
      "{}\n"
     ]
    }
   ],
   "source": [
    "print(s1.__dict__)\n",
    "print(s2.__dict__)"
   ]
  },
  {
   "cell_type": "code",
   "execution_count": 26,
   "metadata": {},
   "outputs": [],
   "source": [
    "Student.totalStudents = 30"
   ]
  },
  {
   "cell_type": "code",
   "execution_count": 27,
   "metadata": {},
   "outputs": [
    {
     "name": "stdout",
     "output_type": "stream",
     "text": [
      "30\n",
      "30\n",
      "30\n"
     ]
    }
   ],
   "source": [
    "print(Student.totalStudents)\n",
    "print(s1.totalStudents)\n",
    "print(s2.totalStudents)"
   ]
  },
  {
   "cell_type": "code",
   "execution_count": 28,
   "metadata": {},
   "outputs": [],
   "source": [
    "s1.totalStudents = 40"
   ]
  },
  {
   "cell_type": "code",
   "execution_count": 29,
   "metadata": {},
   "outputs": [
    {
     "name": "stdout",
     "output_type": "stream",
     "text": [
      "30\n",
      "40\n",
      "30\n"
     ]
    }
   ],
   "source": [
    "print(Student.totalStudents)\n",
    "print(s1.totalStudents)\n",
    "print(s2.totalStudents)"
   ]
  },
  {
   "cell_type": "code",
   "execution_count": 30,
   "metadata": {},
   "outputs": [
    {
     "name": "stdout",
     "output_type": "stream",
     "text": [
      "{'totalStudents': 40}\n",
      "{}\n"
     ]
    }
   ],
   "source": [
    "print(s1.__dict__)\n",
    "print(s2.__dict__)"
   ]
  },
  {
   "cell_type": "code",
   "execution_count": 31,
   "metadata": {},
   "outputs": [],
   "source": [
    "class Student :\n",
    "    ## Class attributes\n",
    "    totalStudents = 20\n",
    "    classTeacherName = 'Deep'\n",
    "    \n",
    "    ## Instance methods\n",
    "    def printHello(self):\n",
    "        print(\"Hello\")\n",
    "        \n",
    "    def print(self, str):\n",
    "        print(str)\n",
    "        \n",
    "    def printName(self):\n",
    "        name = 'abc'\n",
    "        print(self.name)\n",
    "        print(name)\n",
    "        \n",
    "s1 = Student()\n",
    "s2 = Student()"
   ]
  },
  {
   "cell_type": "code",
   "execution_count": 32,
   "metadata": {},
   "outputs": [],
   "source": [
    "s1.name = 'Deepak'"
   ]
  },
  {
   "cell_type": "code",
   "execution_count": 33,
   "metadata": {},
   "outputs": [
    {
     "name": "stdout",
     "output_type": "stream",
     "text": [
      "Deepak\n",
      "abc\n"
     ]
    }
   ],
   "source": [
    "s1.printName()"
   ]
  },
  {
   "cell_type": "code",
   "execution_count": 35,
   "metadata": {},
   "outputs": [
    {
     "name": "stdout",
     "output_type": "stream",
     "text": [
      "Hello\n",
      "Hi\n"
     ]
    }
   ],
   "source": [
    "s1.printHello()\n",
    "s1.print(\"Hi\")"
   ]
  },
  {
   "cell_type": "code",
   "execution_count": 36,
   "metadata": {},
   "outputs": [
    {
     "name": "stdout",
     "output_type": "stream",
     "text": [
      "Hello\n"
     ]
    }
   ],
   "source": [
    "Student.printHello(s1)"
   ]
  },
  {
   "cell_type": "code",
   "execution_count": 68,
   "metadata": {},
   "outputs": [],
   "source": [
    "class Student :\n",
    "    ## Class attributes\n",
    "    totalStudents = 20\n",
    "    classTeacherName = 'Deep'\n",
    "    \n",
    "    ## Constructors\n",
    "    \n",
    "    def __init__(self, name, age, rn=101, *args):\n",
    "        self.name = name\n",
    "        self.age = age\n",
    "        self.rollNumber = rn\n",
    "    \n",
    "    ## Instance methods\n",
    "    def printHello(self):\n",
    "        print(\"Hello\")\n",
    "        \n",
    "    def print(self, str):\n",
    "        print(str)\n",
    "        \n",
    "    def printName(self):\n",
    "        print(self.name)\n",
    "     \n",
    "    def addName(self, name):\n",
    "        self.name = name\n",
    "        \n",
    "    def test(self):\n",
    "        Student.totalStudents = 25\n",
    "        print(Student.totalStudents)\n",
    "        Student.test_class = 90\n",
    "        \n",
    "        \n",
    "s1 = Student('Deepak', 26, 101)\n",
    "s2 = Student('Deepa', 21, 102)\n",
    "s3 = Student('Nikhil', 23)"
   ]
  },
  {
   "cell_type": "code",
   "execution_count": 69,
   "metadata": {},
   "outputs": [
    {
     "name": "stdout",
     "output_type": "stream",
     "text": [
      "{'name': 'Deepak', 'age': 26, 'rollNumber': 101}\n",
      "{'name': 'Deepa', 'age': 21, 'rollNumber': 102}\n",
      "{'name': 'Nikhil', 'age': 23, 'rollNumber': 101}\n"
     ]
    }
   ],
   "source": [
    "print(s1.__dict__)\n",
    "print(s2.__dict__)\n",
    "print(s3.__dict__)"
   ]
  },
  {
   "cell_type": "code",
   "execution_count": 56,
   "metadata": {},
   "outputs": [
    {
     "name": "stdout",
     "output_type": "stream",
     "text": [
      "{'name': 'Deepak'}\n",
      "{}\n"
     ]
    }
   ],
   "source": [
    "s1.addName('Deepak')\n",
    "print(s1.__dict__)\n",
    "print(s2.__dict__)"
   ]
  },
  {
   "cell_type": "code",
   "execution_count": 57,
   "metadata": {},
   "outputs": [
    {
     "name": "stdout",
     "output_type": "stream",
     "text": [
      "{'name': 'Deepa'}\n",
      "{}\n"
     ]
    }
   ],
   "source": [
    "s1.addName('Deepa')\n",
    "print(s1.__dict__)\n",
    "print(s2.__dict__)"
   ]
  },
  {
   "cell_type": "code",
   "execution_count": 58,
   "metadata": {},
   "outputs": [
    {
     "name": "stdout",
     "output_type": "stream",
     "text": [
      "25\n",
      "{'__module__': '__main__', 'totalStudents': 25, 'classTeacherName': 'Deep', 'printHello': <function Student.printHello at 0x7f893d42b940>, 'print': <function Student.print at 0x7f893d42b9d0>, 'printName': <function Student.printName at 0x7f893d42b8b0>, 'addName': <function Student.addName at 0x7f893d42b820>, 'test': <function Student.test at 0x7f893d42ba60>, '__dict__': <attribute '__dict__' of 'Student' objects>, '__weakref__': <attribute '__weakref__' of 'Student' objects>, '__doc__': None, 'test_class': 90}\n"
     ]
    }
   ],
   "source": [
    "s1.test()\n",
    "print(Student.__dict__)"
   ]
  },
  {
   "cell_type": "code",
   "execution_count": 88,
   "metadata": {},
   "outputs": [],
   "source": [
    "#Access Modifiers\n",
    "\n",
    "class Student :\n",
    "    ## Class attributes\n",
    "    totalStudents = 20\n",
    "    classTeacherName = 'Deep'\n",
    "    \n",
    "    ## Constructors\n",
    "    \n",
    "    def __init__(self, name, age, rn=101, *args):\n",
    "        self.__name = name  #private\n",
    "        self.age = age\n",
    "        self.rollNumber = rn\n",
    "    \n",
    "    def getName(self):\n",
    "        return self.__name\n",
    "    \n",
    "    def setName(self, name, passw):\n",
    "        if passw !=123:\n",
    "            return\n",
    "        if name == '':\n",
    "            return\n",
    "        self.__name = name\n",
    "    \n",
    "        \n",
    "        \n",
    "s1 = Student('Deepak', 26, 101)\n",
    "s2 = Student('Deepa', 21, 102)\n",
    "s3 = Student('Nikhil', 23)"
   ]
  },
  {
   "cell_type": "code",
   "execution_count": 90,
   "metadata": {},
   "outputs": [
    {
     "name": "stdout",
     "output_type": "stream",
     "text": [
      "Deepak 26 101\n",
      "Deepak 26 101\n"
     ]
    }
   ],
   "source": [
    "print(s1.getName(), s1.age, s1.rollNumber)\n",
    "s1.setName('Deep', 124)\n",
    "print(s1.getName(), s1.age, s1.rollNumber)"
   ]
  },
  {
   "cell_type": "code",
   "execution_count": 93,
   "metadata": {},
   "outputs": [
    {
     "name": "stdout",
     "output_type": "stream",
     "text": [
      "Deepak\n"
     ]
    }
   ],
   "source": [
    "# Name mangling\n",
    "\n",
    "print(s1._Student__name)"
   ]
  },
  {
   "cell_type": "code",
   "execution_count": 104,
   "metadata": {},
   "outputs": [],
   "source": [
    "# Class Methods and Static Methods\n",
    "\n",
    "class Student :\n",
    "    ## Class attributes\n",
    "    __totalStudents = 20\n",
    "    classTeacherName = 'Deep'\n",
    "    \n",
    "    \n",
    "    @classmethod   #function decorator\n",
    "    def getTotalStudents(cls):\n",
    "        return Student.__totalStudents\n",
    "\n",
    "    def __init__(self, name, age, rn=101, *args):\n",
    "        self.__name = name  #private\n",
    "        self.age = age\n",
    "        self.rollNumber = rn\n",
    "    \n",
    "    def getName(self):\n",
    "        return self.__name\n",
    "    \n",
    "    def setName(self, name):\n",
    "        if name == '':\n",
    "            return\n",
    "        self.__name = name\n",
    "    \n",
    "        \n",
    "        \n",
    "s1 = Student('Deepak', 26, 101)\n",
    "s2 = Student('Deepa', 21, 102)\n",
    "s3 = Student('Nikhil', 23)"
   ]
  },
  {
   "cell_type": "code",
   "execution_count": 105,
   "metadata": {},
   "outputs": [
    {
     "name": "stdout",
     "output_type": "stream",
     "text": [
      "20\n"
     ]
    }
   ],
   "source": [
    "print(Student._Student__totalStudents)"
   ]
  },
  {
   "cell_type": "code",
   "execution_count": 106,
   "metadata": {},
   "outputs": [
    {
     "name": "stdout",
     "output_type": "stream",
     "text": [
      "20\n",
      "20\n"
     ]
    }
   ],
   "source": [
    "print(s1.getTotalStudents())\n",
    "print(Student.getTotalStudents())"
   ]
  },
  {
   "cell_type": "code",
   "execution_count": null,
   "metadata": {},
   "outputs": [],
   "source": []
  }
 ],
 "metadata": {
  "kernelspec": {
   "display_name": "Python 3",
   "language": "python",
   "name": "python3"
  },
  "language_info": {
   "codemirror_mode": {
    "name": "ipython",
    "version": 3
   },
   "file_extension": ".py",
   "mimetype": "text/x-python",
   "name": "python",
   "nbconvert_exporter": "python",
   "pygments_lexer": "ipython3",
   "version": "3.8.5"
  }
 },
 "nbformat": 4,
 "nbformat_minor": 4
}
